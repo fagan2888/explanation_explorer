{
 "cells": [
  {
   "cell_type": "code",
   "execution_count": 1,
   "metadata": {
    "collapsed": true
   },
   "outputs": [],
   "source": [
    "%matplotlib inline"
   ]
  },
  {
   "cell_type": "markdown",
   "metadata": {},
   "source": [
    "\n",
    "# Airbnb\n",
    "\n",
    "Please download the Airbnb data from here\n",
    "\n",
    "http://data.insideairbnb.com/united-states/ny/new-york-city/2017-09-02/data/listings.csv.gz\n",
    "\n",
    "and unzip it in the current folder.\n"
   ]
  },
  {
   "cell_type": "code",
   "execution_count": 2,
   "metadata": {},
   "outputs": [
    {
     "name": "stdout",
     "output_type": "stream",
     "text": [
      "nanmin 20.0 nans 8841\n"
     ]
    },
    {
     "data": {
      "text/plain": [
       "(('min', 20.0),\n",
       " ('med', 93.0),\n",
       " ('max', 100.0),\n",
       " ('mean', 77.6177515080755),\n",
       " ('std', 31.000761076404899),\n",
       " ('count', 41112))"
      ]
     },
     "execution_count": 2,
     "metadata": {},
     "output_type": "execute_result"
    }
   ],
   "source": [
    "from __future__ import print_function\n",
    "from __future__ import division\n",
    "\n",
    "import logging\n",
    "import csv\n",
    "\n",
    "import numpy as np\n",
    "\n",
    "logging.basicConfig(level=logging.INFO,\n",
    "                    format='%(asctime)s %(levelname)s %(message)s')\n",
    "\n",
    "text = []\n",
    "outcome = []\n",
    "meta = []\n",
    "with open(\"listings.csv\", \"r\") as f_in:\n",
    "    for row in csv.DictReader(f_in):\n",
    "        v = int(row[\"review_scores_rating\"]) if row[\"review_scores_rating\"] else np.nan\n",
    "        if len(row[\"description\"].strip()) > 10:\n",
    "            text.append(\"{0} {1}\".format(row[\"name\"], row[\"description\"]))\n",
    "            outcome.append(v)\n",
    "            meta.append(row[\"neighbourhood_cleansed\"])\n",
    "\n",
    "outcome = np.array(outcome)\n",
    "nanmin = np.nanmin(outcome)\n",
    "print(\"nanmin\", nanmin, \"nans\", np.count_nonzero(np.isnan(outcome)))\n",
    "outcome[np.isnan(outcome)] = nanmin\n",
    "label = outcome > np.median(outcome)\n",
    "(\"min\", outcome.min()), \\\n",
    "(\"med\", np.median(outcome)), \\\n",
    "(\"max\", outcome.max()), \\\n",
    "(\"mean\", outcome.mean()), \\\n",
    "(\"std\", outcome.std()), \\\n",
    "(\"count\", outcome.shape[0])"
   ]
  },
  {
   "cell_type": "code",
   "execution_count": 3,
   "metadata": {},
   "outputs": [
    {
     "name": "stdout",
     "output_type": "stream",
     "text": [
      "done in 24.424s\n"
     ]
    },
    {
     "data": {
      "text/plain": [
       "(72.79623954076669, (41112, 3000), 3000)"
      ]
     },
     "execution_count": 3,
     "metadata": {},
     "output_type": "execute_result"
    }
   ],
   "source": [
    "from pprint import pprint\n",
    "from time import monotonic\n",
    "\n",
    "from sklearn.feature_extraction.text import TfidfVectorizer\n",
    "\n",
    "cv = TfidfVectorizer(min_df=10, max_df=0.9, stop_words=\"english\", ngram_range=(1, 3), max_features=3000)\n",
    "t0 = monotonic()\n",
    "data = cv.fit_transform(text)\n",
    "features = cv.get_feature_names()\n",
    "print(\"done in %0.3fs\" % (monotonic() - t0))\n",
    "\n",
    "np.count_nonzero(data.toarray()) / data.shape[0], data.shape, len(features)"
   ]
  },
  {
   "cell_type": "code",
   "execution_count": 4,
   "metadata": {},
   "outputs": [
    {
     "data": {
      "text/plain": [
       "array([[ 0.        ,  0.        ,  0.        , ...,  0.        ,\n",
       "         0.        ,  0.        ],\n",
       "       [ 0.        ,  0.        ,  0.        , ...,  0.        ,\n",
       "         0.        ,  0.        ],\n",
       "       [ 0.        ,  0.        ,  0.        , ...,  0.        ,\n",
       "         0.        ,  0.        ],\n",
       "       ..., \n",
       "       [ 0.        ,  0.19942624,  0.        , ...,  0.        ,\n",
       "         0.        ,  0.        ],\n",
       "       [ 0.        ,  0.        ,  0.        , ...,  0.        ,\n",
       "         0.        ,  0.        ],\n",
       "       [ 0.        ,  0.        ,  0.        , ...,  0.        ,\n",
       "         0.        ,  0.        ]])"
      ]
     },
     "execution_count": 4,
     "metadata": {},
     "output_type": "execute_result"
    }
   ],
   "source": [
    "data.toarray()"
   ]
  },
  {
   "cell_type": "code",
   "execution_count": 5,
   "metadata": {
    "scrolled": false
   },
   "outputs": [
    {
     "data": {
      "text/plain": [
       "['00',\n",
       " '10',\n",
       " '10 15',\n",
       " '10 min',\n",
       " '10 min walk',\n",
       " '10 mins',\n",
       " '10 minute',\n",
       " '10 minute walk',\n",
       " '10 minutes',\n",
       " '10 minutes away']"
      ]
     },
     "execution_count": 5,
     "metadata": {},
     "output_type": "execute_result"
    }
   ],
   "source": [
    "features[:10]"
   ]
  },
  {
   "cell_type": "code",
   "execution_count": 6,
   "metadata": {},
   "outputs": [
    {
     "name": "stdout",
     "output_type": "stream",
     "text": [
      "start\n",
      "0\n",
      "5000\n",
      "10000\n",
      "15000\n",
      "20000\n",
      "25000\n",
      "30000\n",
      "35000\n",
      "40000\n",
      "done\n"
     ]
    }
   ],
   "source": [
    "if \"label\" in features:\n",
    "    raise ValueError(\"label in features\")\n",
    "print(\"start\")\n",
    "real_features = [ \"label\" ] + features\n",
    "tr = 0.2\n",
    "# no meta :(\n",
    "mat = data.toarray()\n",
    "with open(\"airbnb.csr\", \"w\") as f_out:\n",
    "    out = csv.writer(f_out)\n",
    "    out.writerow(real_features)\n",
    "    for rix in range(mat.shape[0]):\n",
    "        cixs = []\n",
    "        for cix in range(mat.shape[1]):\n",
    "            if mat[rix, cix] > 0:\n",
    "                cixs.append(cix)\n",
    "        out.writerow([ 1 if label[rix] else 0 ] + cixs)\n",
    "        if rix % 5000 == 0:\n",
    "            print(rix)\n",
    "print(\"done\")"
   ]
  },
  {
   "cell_type": "code",
   "execution_count": 7,
   "metadata": {
    "collapsed": true
   },
   "outputs": [],
   "source": [
    "import zipfile\n",
    "\n",
    "with zipfile.ZipFile(\"airbnb.zip\", 'w', zipfile.ZIP_LZMA) as zf:\n",
    "    zf.write(\"airbnb.csr\")"
   ]
  },
  {
   "cell_type": "code",
   "execution_count": null,
   "metadata": {
    "collapsed": true
   },
   "outputs": [],
   "source": []
  }
 ],
 "metadata": {
  "kernelspec": {
   "display_name": "Python 3",
   "language": "python",
   "name": "python3"
  },
  "language_info": {
   "codemirror_mode": {
    "name": "ipython",
    "version": 3
   },
   "file_extension": ".py",
   "mimetype": "text/x-python",
   "name": "python",
   "nbconvert_exporter": "python",
   "pygments_lexer": "ipython3",
   "version": "3.6.2"
  }
 },
 "nbformat": 4,
 "nbformat_minor": 1
}
